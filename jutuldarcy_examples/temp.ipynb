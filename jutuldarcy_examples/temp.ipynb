{
 "cells": [
  {
   "cell_type": "code",
   "execution_count": 1,
   "metadata": {},
   "outputs": [],
   "source": [
    "using Jutul, JutulDarcy, HYPRE, GLMakie, MAT, Statistics\n",
    "\n",
    "import Jutul: find_enclosing_cell, plot_mesh_edges, replace_variables!\n",
    "import JutulDarcy: table_to_relperm, add_relperm_parameters!, brooks_corey_relperm\n",
    "import JutulDarcy: KilloughHysteresis, ReservoirRelativePermeabilities"
   ]
  },
  {
   "cell_type": "code",
   "execution_count": 2,
   "metadata": {},
   "outputs": [
    {
     "name": "stdout",
     "output_type": "stream",
     "text": [
      "Perm all: (1272, 64, 64, 8)"
     ]
    }
   ],
   "source": [
    "vars = matread(\"E:/temp/data_1272_64x64x8.mat\")\n",
    "perm_all = vars[\"perm\"]\n",
    "print(\"Perm all: \", size(perm_all))"
   ]
  },
  {
   "cell_type": "code",
   "execution_count": 16,
   "metadata": {},
   "outputs": [
    {
     "data": {
      "text/plain": [
       "32768"
      ]
     },
     "metadata": {},
     "output_type": "display_data"
    }
   ],
   "source": [
    "g = Jutul.gravity_constant\n",
    "Darcy, bar, psi, kg, meter, hour, day, year = si_units(:darcy, :bar, :psi, :kilogram, :meter, :hour, :day, :year)\n",
    "\n",
    "nx, ny, nz = 64, 64, 8\n",
    "dx, dy, dz = 93.75, 93.75, 20.0\n",
    "\n",
    "cart_dims     = (nx, ny, nz)\n",
    "physical_dims = (nx*dx, ny*dy, nz*dz)\n",
    "mesh          = UnstructuredMesh(CartesianMesh(cart_dims, physical_dims))\n",
    "nc            = number_of_cells(mesh)\n",
    "\n",
    "# points = mesh.node_points\n",
    "# for (i, pt) in enumerate(points)\n",
    "#     y, x, z = pt\n",
    "#     x_u = 0.5 * π * x / 1000.0\n",
    "#     w = 0.2\n",
    "#     dz = 0.05*x + 0.05*abs(x - 2500.0)+ w*(30*cos(2.0*x_u) + 20*sin(5.0*x_u))\n",
    "#     points[i] = pt + [0, 0, dz]\n",
    "# end"
   ]
  },
  {
   "cell_type": "code",
   "execution_count": 17,
   "metadata": {},
   "outputs": [],
   "source": [
    "# setup rock\n",
    "sample = 141\n",
    "\n",
    "poro = fill(0.2, nc)\n",
    "perm = zeros(3, nc)\n",
    "kx = vec(perm_all[sample,:,:,:]) * Darcy ;\n",
    "perm[1, :] = perm[2, :] = kx\n",
    "perm[3, :] = 0.1 * kx\n",
    "\n",
    "# setup fluid\n",
    "so            = range(0, 1, 10)\n",
    "sg            = range(0, 1, 50)\n",
    "krog          = PhaseRelativePermeability(so, so.^2, label = :og)\n",
    "\n",
    "tab_krg_drain = brooks_corey_relperm.(sg, n = 2, residual = 0.1)\n",
    "tab_krg_imb   = brooks_corey_relperm.(sg, n = 3, residual = 0.25)\n",
    "\n",
    "krg_drain     = PhaseRelativePermeability(sg, tab_krg_drain, label = :g)\n",
    "krg_imb       = PhaseRelativePermeability(sg, tab_krg_imb, label = :g)\n",
    "\n",
    "krg = (krg_drain, krg_imb)\n",
    "H_g = KilloughHysteresis()\n",
    "relperm = ReservoirRelativePermeabilities(g = krg, og = krog, hysteresis_g = H_g) ;"
   ]
  },
  {
   "cell_type": "code",
   "execution_count": 18,
   "metadata": {},
   "outputs": [],
   "source": [
    "# setup reservoir\n",
    "domain = reservoir_domain(mesh, permeability = perm, porosity = poro, temperature = convert_to_si(30.0, :Celsius))\n",
    "\n",
    "# setup wells\n",
    "w1, w2 = 0.25nx, 0.75nx\n",
    "# Inj1 = setup_well(domain, [(w1, w1, i) for i in nz-1:nz], name = :Injector1, simple_well=true)\n",
    "# Inj2 = setup_well(domain, [(w1, w2, i) for i in nz-1:nz], name = :Injector2, simple_well=true)\n",
    "# Inj3 = setup_well(domain, [(w2, w2, i) for i in nz-1:nz], name = :Injector3, simple_well=true)\n",
    "# Inj4 = setup_well(domain, [(w2, w1, i) for i in nz-1:nz], name = :Injector4, simple_well=true)\n",
    "Inj1 = setup_well(domain, [(w1, w1, nz)], name = :Injector1, simple_well=true)\n",
    "Inj2 = setup_well(domain, [(w1, w2, nz)], name = :Injector2, simple_well=true)\n",
    "Inj3 = setup_well(domain, [(w2, w2, nz)], name = :Injector3, simple_well=true)\n",
    "Inj4 = setup_well(domain, [(w2, w1, nz)], name = :Injector4, simple_well=true)\n",
    "\n",
    "# setup model and update with relperms\n",
    "model  = setup_reservoir_model(domain, :co2brine, wells = [Inj1,Inj2,Inj3,Inj4], extra_out = false, co2_physics = :kvalue)\n",
    "replace_variables!(model, RelativePermeabilities = relperm)\n",
    "add_relperm_parameters!(model) ;"
   ]
  },
  {
   "cell_type": "code",
   "execution_count": 19,
   "metadata": {},
   "outputs": [],
   "source": [
    "plot_reservoir(model)"
   ]
  },
  {
   "cell_type": "code",
   "execution_count": 20,
   "metadata": {},
   "outputs": [],
   "source": [
    "# initial state\n",
    "p0 = zeros(nc)\n",
    "depth = domain[:cell_centroids][3,:]\n",
    "@. p0 = 200bar + depth * g * 1000.0\n",
    "\n",
    "state0 = setup_reservoir_state(model, Pressure = p0, OverallMoleFractions = [1.0, 0.0])\n",
    "parameters = setup_parameters(model) ;"
   ]
  },
  {
   "cell_type": "code",
   "execution_count": 21,
   "metadata": {},
   "outputs": [
    {
     "name": "stdout",
     "output_type": "stream",
     "text": [
      "Boundary condition added to 1024 cells.\n"
     ]
    }
   ],
   "source": [
    "# boundary conditions\n",
    "boundary = Int[]\n",
    "for cell in 1:nc\n",
    "    I, J, K = cell_ijk(mesh, cell)\n",
    "    if I == 1 || I == nx\n",
    "        push!(boundary, cell)\n",
    "    end\n",
    "end\n",
    "bc = flow_boundary_condition(boundary, domain, p0[boundary], fractional_flow = [1.0, 0.0])\n",
    "println(\"Boundary condition added to $(length(bc)) cells.\")"
   ]
  },
  {
   "cell_type": "code",
   "execution_count": 22,
   "metadata": {},
   "outputs": [
    {
     "name": "stdout",
     "output_type": "stream",
     "text": [
      "240 report steps with injection, 100 report steps with migration.\n",
      "\u001b[92;1mJutul:\u001b[0m Simulating 510 years as 340 report steps\n",
      "\u001b[34;1mStep   1/340:\u001b[0m Solving start to 2 weeks, 1.218 day, Δt = 2 weeks, 1.218 day \n",
      "\u001b[33;1mConvergence:\u001b[0m Report step 1, mini-step #5 (1 week, 17.24 hours) failed to converge. Reducing mini-step.\n",
      "\u001b[34;1mStep   2/340:\u001b[0m Solving 2 weeks, 1.218 day to 4 weeks, 2.437 days, Δt = 2 weeks, 1.218 day \n",
      "\u001b[33;1mConvergence:\u001b[0m Report step 2, mini-step #1 (6 days, 22.72 hours) failed to converge. Reducing mini-step.\n",
      "\u001b[33;1mConvergence:\u001b[0m Report step 2, mini-step #4 (5 days, 20.94 hours) failed to converge. Reducing mini-step."
     ]
    },
    {
     "name": "stderr",
     "output_type": "stream",
     "text": [
      "┌ Warning: Exception occured in solve: ErrorException(\"Bad linear solve: Linear solver: maximum number of iterations exceeded, final residual: 0.23991192432715183, rel. value 2.9967447703224246. rtol = 0.001, atol = 1.0e-12, max_it = 50\"). Attempting to cut time-step since failure_cuts_timestep = true.\n",
      "└ @ Jutul C:\\Users\\mmorales\\.julia\\packages\\Jutul\\awbiL\\src\\simulator\\simulator.jl:457\n",
      "┌ Warning: Exception occurred in perform_step!\n",
      "│   inner_exception = ErrorException(\"Bad linear solve: Linear solver: maximum number of iterations exceeded, final residual: 0.23991192432715183, rel. value 2.9967447703224246. rtol = 0.001, atol = 1.0e-12, max_it = 50\")\n",
      "└ @ Jutul C:\\Users\\mmorales\\.julia\\packages\\Jutul\\awbiL\\src\\simulator\\simulator.jl:529\n"
     ]
    },
    {
     "name": "stdout",
     "output_type": "stream",
     "text": [
      "\n",
      "\u001b[34;1mStep   3/340:\u001b[0m Solving 4 weeks, 2.437 days to 6 weeks, 3.655 days, Δt = 2 weeks, 1.218 day \n",
      "\u001b[33;1mConvergence:\u001b[0m Report step 3, mini-step #2 (1 week, 3.814 days) failed to converge. Reducing mini-step.\n",
      "\u001b[34;1mStep   4/340:\u001b[0m Solving 6 weeks, 3.655 days to 8 weeks, 4.874 days, Δt = 2 weeks, 1.218 day \n",
      "\u001b[34;1mStep   5/340:\u001b[0m Solving 8 weeks, 4.874 days to 10 weeks, 6.092 days, Δt = 2 weeks, 1.218 day \n",
      "\u001b[34;1mStep   6/340:\u001b[0m Solving 10 weeks, 6.092 days to 13 weeks, 7.455 hours, Δt = 2 weeks, 1.218 day \n",
      "\u001b[33;1mConvergence:\u001b[0m Report step 6, mini-step #1 (2 weeks, 1.218 day) failed to converge. Reducing mini-step.\n",
      "\u001b[34;1mStep   7/340:\u001b[0m Solving 13 weeks, 7.455 hours to 15 weeks, 1.529 day, Δt = 2 weeks, 1.218 day \n",
      "\u001b[33;1mConvergence:\u001b[0m Report step 7, mini-step #1 (5 days, 16.97 hours) failed to converge. Reducing mini-step.\n",
      "\u001b[34;1mStep   8/340:\u001b[0m Solving 15 weeks, 1.529 day to 17 weeks, 2.748 days, Δt = 2 weeks, 1.218 day \n",
      "\u001b[34;1mStep   9/340:\u001b[0m Solving 17 weeks, 2.748 days to 19 weeks, 3.966 days, Δt = 2 weeks, 1.218 day \n",
      "\u001b[33;1mConvergence:\u001b[0m Report step 9, mini-step #1 (2 weeks, 1.218 day) failed to converge. Reducing mini-step.\n",
      "\u001b[34;1mStep  10/340:\u001b[0m Solving 19 weeks, 3.966 days to 21 weeks, 5.184 days, Δt = 2 weeks, 1.218 day \n",
      "\u001b[33;1mConvergence:\u001b[0m Report step 10, mini-step #2 (1 week, 2.512 days) failed to converge. Reducing mini-step.\n",
      "\u001b[33;1mConvergence:\u001b[0m Report step 10, mini-step #3 (4 days, 18.14 hours) failed to converge. Reducing mini-step."
     ]
    },
    {
     "name": "stderr",
     "output_type": "stream",
     "text": [
      "┌ Warning: Exception occured in solve: ErrorException(\"Bad linear solve: Linear solver: maximum number of iterations exceeded, final residual: 0.4287578004196297, rel. value 2.38084457226834. rtol = 0.001, atol = 1.0e-12, max_it = 50\"). Attempting to cut time-step since failure_cuts_timestep = true.\n",
      "└ @ Jutul C:\\Users\\mmorales\\.julia\\packages\\Jutul\\awbiL\\src\\simulator\\simulator.jl:457\n",
      "┌ Warning: Exception occurred in perform_step!\n",
      "│   inner_exception = ErrorException(\"Bad linear solve: Linear solver: maximum number of iterations exceeded, final residual: 0.4287578004196297, rel. value 2.38084457226834. rtol = 0.001, atol = 1.0e-12, max_it = 50\")\n",
      "└ @ Jutul C:\\Users\\mmorales\\.julia\\packages\\Jutul\\awbiL\\src\\simulator\\simulator.jl:529\n"
     ]
    },
    {
     "name": "stdout",
     "output_type": "stream",
     "text": [
      "\n",
      "\u001b[34;1mStep  11/340:\u001b[0m Solving 21 weeks, 5.184 days to 23 weeks, 6.403 days, Δt = 2 weeks, 1.218 day \n",
      "\u001b[33;1mConvergence:\u001b[0m Report step 11, mini-step #1 (2 weeks, 1.218 day) failed to converge. Reducing mini-step.\n",
      "\u001b[34;1mStep  12/340:\u001b[0m Solving 23 weeks, 6.403 days to 26 weeks, 14.91 hours, Δt = 2 weeks, 1.218 day \n",
      "\u001b[34;1mStep  13/340:\u001b[0m Solving 26 weeks, 14.91 hours to 28 weeks, 1.84 day, Δt = 2 weeks, 1.218 day \n",
      "\u001b[34;1mStep  14/340:\u001b[0m Solving 28 weeks, 1.84 day to 30 weeks, 3.058 days, Δt = 2 weeks, 1.218 day \n",
      "\u001b[33;1mConvergence:\u001b[0m Report step 14, mini-step #2 (1 week, 14.62 hours) failed to converge. Reducing mini-step.\n"
     ]
    },
    {
     "name": "stderr",
     "output_type": "stream",
     "text": [
      "┌ Warning: Exception occured in solve: ErrorException(\"Bad linear solve: Linear solver: maximum number of iterations exceeded, final residual: 20.412237056926173, rel. value 3.686552609952667. rtol = 0.001, atol = 1.0e-12, max_it = 50\"). Attempting to cut time-step since failure_cuts_timestep = true.\n",
      "└ @ Jutul C:\\Users\\mmorales\\.julia\\packages\\Jutul\\awbiL\\src\\simulator\\simulator.jl:457\n",
      "┌ Warning: Exception occurred in perform_step!\n",
      "│   inner_exception = ErrorException(\"Bad linear solve: Linear solver: maximum number of iterations exceeded, final residual: 20.412237056926173, rel. value 3.686552609952667. rtol = 0.001, atol = 1.0e-12, max_it = 50\")\n",
      "└ @ Jutul C:\\Users\\mmorales\\.julia\\packages\\Jutul\\awbiL\\src\\simulator\\simulator.jl:529\n"
     ]
    },
    {
     "name": "stdout",
     "output_type": "stream",
     "text": [
      "\u001b[34;1mStep  15/340:\u001b[0m Solving 30 weeks, 3.058 days to 32 weeks, 4.277 days, Δt = 2 weeks, 1.218 day \n",
      "\u001b[34;1mStep  16/340:\u001b[0m Solving 32 weeks, 4.277 days to 34 weeks, 5.495 days, Δt = 2 weeks, 1.218 day \n",
      "\u001b[34;1mStep  17/340:\u001b[0m Solving 34 weeks, 5.495 days to 36 weeks, 6.713 days, Δt = 2 weeks, 1.218 day \n",
      "\u001b[34;1mStep  18/340:\u001b[0m Solving 36 weeks, 6.713 days to 39 weeks, 22.36 hours, Δt = 2 weeks, 1.218 day \n",
      "\u001b[34;1mStep  19/340:\u001b[0m Solving 39 weeks, 22.36 hours to 41 weeks, 2.15 days, Δt = 2 weeks, 1.218 day \n",
      "\u001b[34;1mStep  20/340:\u001b[0m Solving 41 weeks, 2.15 days to 43 weeks, 3.369 days, Δt = 2 weeks, 1.218 day \n",
      "\u001b[34;1mStep  21/340:\u001b[0m Solving 43 weeks, 3.369 days to 45 weeks, 4.587 days, Δt = 2 weeks, 1.218 day \n",
      "\u001b[34;1mStep  22/340:\u001b[0m Solving 45 weeks, 4.587 days to 47 weeks, 5.806 days, Δt = 2 weeks, 1.218 day \n",
      "\u001b[33;1mConvergence:\u001b[0m Report step 22, mini-step #1 (1 week, 14.62 hours) failed to converge. Reducing mini-step.\n"
     ]
    },
    {
     "name": "stderr",
     "output_type": "stream",
     "text": [
      "┌ Warning: Exception occured in solve: ErrorException(\"Bad linear solve: Linear solver: maximum number of iterations exceeded, final residual: 0.27193724588287044, rel. value 1.5043546457076835. rtol = 0.001, atol = 1.0e-12, max_it = 50\"). Attempting to cut time-step since failure_cuts_timestep = true.\n",
      "└ @ Jutul C:\\Users\\mmorales\\.julia\\packages\\Jutul\\awbiL\\src\\simulator\\simulator.jl:457\n",
      "┌ Warning: Exception occurred in perform_step!\n",
      "│   inner_exception = ErrorException(\"Bad linear solve: Linear solver: maximum number of iterations exceeded, final residual: 0.27193724588287044, rel. value 1.5043546457076835. rtol = 0.001, atol = 1.0e-12, max_it = 50\")\n",
      "└ @ Jutul C:\\Users\\mmorales\\.julia\\packages\\Jutul\\awbiL\\src\\simulator\\simulator.jl:529\n"
     ]
    },
    {
     "name": "stdout",
     "output_type": "stream",
     "text": [
      "\u001b[34;1mStep  23/340:\u001b[0m Solving 47 weeks, 5.806 days to 50 weeks, 34.65 minutes, Δt = 2 weeks, 1.218 day \n",
      "\u001b[34;1mStep  24/340:\u001b[0m Solving 50 weeks, 34.65 minutes to 1 year, Δt = 2 weeks, 1.218 day \n",
      "\u001b[34;1mStep  25/340:\u001b[0m Solving 1 year to 1 year, 2.174 weeks, Δt = 2 weeks, 1.218 day \n",
      "\u001b[34;1mStep  26/340:\u001b[0m Solving 1 year, 2.174 weeks to 1 year, 4.348 weeks, Δt = 2 weeks, 1.218 day \n",
      "\u001b[34;1mStep  27/340:\u001b[0m Solving 1 year, 4.348 weeks to 1 year, 6.522 weeks, Δt = 2 weeks, 1.218 day \n",
      "\u001b[34;1mStep  28/340:\u001b[0m Solving 1 year, 6.522 weeks to 1 year, 8.696 weeks, Δt = 2 weeks, 1.218 day \n",
      "\u001b[33;1mConvergence:\u001b[0m Report step 28, mini-step #1 (2 weeks, 1.218 day) failed to converge. Reducing mini-step.\n",
      "\u001b[34;1mStep  29/340:\u001b[0m Solving 1 year, 8.696 weeks to 1 year, 10.87 weeks, Δt = 2 weeks, 1.218 day \n",
      "\u001b[34;1mStep  30/340:\u001b[0m Solving 1 year, 10.87 weeks to 1 year, 13.04 weeks, Δt = 2 weeks, 1.218 day \n",
      "\u001b[34;1mStep  31/340:\u001b[0m Solving 1 year, 13.04 weeks to 1 year, 15.22 weeks, Δt = 2 weeks, 1.218 day \n",
      "\u001b[34;1mStep  32/340:\u001b[0m Solving 1 year, 15.22 weeks to 1 year, 17.39 weeks, Δt = 2 weeks, 1.218 day \n",
      "\u001b[34;1mStep  33/340:\u001b[0m Solving 1 year, 17.39 weeks to 1 year, 19.57 weeks, Δt = 2 weeks, 1.218 day \n",
      "\u001b[34;1mStep  34/340:\u001b[0m Solving 1 year, 19.57 weeks to 1 year, 21.74 weeks, Δt = 2 weeks, 1.218 day \n",
      "\u001b[34;1mStep  35/340:\u001b[0m Solving 1 year, 21.74 weeks to 1 year, 23.91 weeks, Δt = 2 weeks, 1.218 day \n",
      "\u001b[34;1mStep  36/340:\u001b[0m Solving 1 year, 23.91 weeks to 1 year, 26.09 weeks, Δt = 2 weeks, 1.218 day \n",
      "\u001b[33;1mConvergence:\u001b[0m Report step 36, mini-step #1 (2 weeks, 1.218 day) failed to converge. Reducing mini-step.\n",
      "\u001b[33;1mConvergence:\u001b[0m Report step 36, mini-step #2 (1 week, 14.62 hours) failed to converge. Reducing mini-step.\n"
     ]
    },
    {
     "name": "stderr",
     "output_type": "stream",
     "text": [
      "┌ Warning: Exception occured in solve: ErrorException(\"Bad linear solve: Linear solver: maximum number of iterations exceeded, final residual: 6.110036052712432, rel. value 33.85672911637876. rtol = 0.001, atol = 1.0e-12, max_it = 50\"). Attempting to cut time-step since failure_cuts_timestep = true.\n",
      "└ @ Jutul C:\\Users\\mmorales\\.julia\\packages\\Jutul\\awbiL\\src\\simulator\\simulator.jl:457\n",
      "┌ Warning: Exception occurred in perform_step!\n",
      "│   inner_exception = ErrorException(\"Bad linear solve: Linear solver: maximum number of iterations exceeded, final residual: 6.110036052712432, rel. value 33.85672911637876. rtol = 0.001, atol = 1.0e-12, max_it = 50\")\n",
      "└ @ Jutul C:\\Users\\mmorales\\.julia\\packages\\Jutul\\awbiL\\src\\simulator\\simulator.jl:529\n"
     ]
    },
    {
     "name": "stdout",
     "output_type": "stream",
     "text": [
      "\u001b[34;1mStep  37/340:\u001b[0m Solving 1 year, 26.09 weeks to 1 year, 28.26 weeks, Δt = 2 weeks, 1.218 day \n",
      "\u001b[34;1mStep  38/340:\u001b[0m Solving 1 year, 28.26 weeks to 1 year, 30.44 weeks, Δt = 2 weeks, 1.218 day \n",
      "\u001b[34;1mStep  39/340:\u001b[0m Solving 1 year, 30.44 weeks to 1 year, 32.61 weeks, Δt = 2 weeks, 1.218 day \n",
      "\u001b[33;1mConvergence:\u001b[0m Report step 39, mini-step #2 (1 week, 1.993 day) failed to converge. Reducing mini-step."
     ]
    },
    {
     "name": "stderr",
     "output_type": "stream",
     "text": [
      "┌ Warning: Exception occured in solve: ErrorException(\"Bad linear solve: Linear solver: maximum number of iterations exceeded, final residual: 3.5009811005308467, rel. value 20.762035773344152. rtol = 0.001, atol = 1.0e-12, max_it = 50\"). Attempting to cut time-step since failure_cuts_timestep = true.\n",
      "└ @ Jutul C:\\Users\\mmorales\\.julia\\packages\\Jutul\\awbiL\\src\\simulator\\simulator.jl:457\n",
      "┌ Warning: Exception occurred in perform_step!\n",
      "│   inner_exception = ErrorException(\"Bad linear solve: Linear solver: maximum number of iterations exceeded, final residual: 3.5009811005308467, rel. value 20.762035773344152. rtol = 0.001, atol = 1.0e-12, max_it = 50\")\n",
      "└ @ Jutul C:\\Users\\mmorales\\.julia\\packages\\Jutul\\awbiL\\src\\simulator\\simulator.jl:529\n"
     ]
    },
    {
     "name": "stdout",
     "output_type": "stream",
     "text": [
      "\n",
      "\u001b[34;1mStep  40/340:\u001b[0m Solving 1 year, 32.61 weeks to 1 year, 34.78 weeks, Δt = 2 weeks, 1.218 day \n",
      "\u001b[34;1mStep  41/340:\u001b[0m Solving 1 year, 34.78 weeks to 1 year, 36.96 weeks, Δt = 2 weeks, 1.218 day \n",
      "\u001b[34;1mStep  42/340:\u001b[0m Solving 1 year, 36.96 weeks to 1 year, 39.13 weeks, Δt = 2 weeks, 1.218 day \n",
      "\u001b[33;1mConvergence:\u001b[0m Report step 42, mini-step #1 (1 week, 14.62 hours) failed to converge. Reducing mini-step.\n"
     ]
    },
    {
     "name": "stderr",
     "output_type": "stream",
     "text": [
      "┌ Warning: Exception occured in solve: ErrorException(\"Bad linear solve: Linear solver: maximum number of iterations exceeded, final residual: 1.3869996204322421, rel. value 10.96827325417709. rtol = 0.001, atol = 1.0e-12, max_it = 50\"). Attempting to cut time-step since failure_cuts_timestep = true.\n",
      "└ @ Jutul C:\\Users\\mmorales\\.julia\\packages\\Jutul\\awbiL\\src\\simulator\\simulator.jl:457\n",
      "┌ Warning: Exception occurred in perform_step!\n",
      "│   inner_exception = ErrorException(\"Bad linear solve: Linear solver: maximum number of iterations exceeded, final residual: 1.3869996204322421, rel. value 10.96827325417709. rtol = 0.001, atol = 1.0e-12, max_it = 50\")\n",
      "└ @ Jutul C:\\Users\\mmorales\\.julia\\packages\\Jutul\\awbiL\\src\\simulator\\simulator.jl:529\n"
     ]
    },
    {
     "name": "stdout",
     "output_type": "stream",
     "text": [
      "\u001b[34;1mStep  43/340:\u001b[0m Solving 1 year, 39.13 weeks to 1 year, 41.31 weeks, Δt = 2 weeks, 1.218 day \n",
      "\u001b[34;1mStep  44/340:\u001b[0m Solving 1 year, 41.31 weeks to 1 year, 43.48 weeks, Δt = 2 weeks, 1.218 day \n",
      "\u001b[34;1mStep  45/340:\u001b[0m Solving 1 year, 43.48 weeks to 1 year, 45.66 weeks, Δt = 2 weeks, 1.218 day \n",
      "\u001b[34;1mStep  46/340:\u001b[0m Solving 1 year, 45.66 weeks to 1 year, 47.83 weeks, Δt = 2 weeks, 1.218 day \n",
      "\u001b[34;1mStep  47/340:\u001b[0m Solving 1 year, 47.83 weeks to 1 year, 50 weeks, Δt = 2 weeks, 1.218 day \n",
      "\u001b[34;1mStep  48/340:\u001b[0m Solving 1 year, 50 weeks to 2 years, Δt = 2 weeks, 1.218 day \n",
      "\u001b[34;1mStep  49/340:\u001b[0m Solving 2 years to 2 years, 2.174 weeks, Δt = 2 weeks, 1.218 day \n",
      "\u001b[34;1mStep  50/340:\u001b[0m Solving 2 years, 2.174 weeks to 2 years, 4.348 weeks, Δt = 2 weeks, 1.218 day \n",
      "\u001b[34;1mStep  51/340:\u001b[0m Solving 2 years, 4.348 weeks to 2 years, 6.522 weeks, Δt = 2 weeks, 1.218 day \n",
      "\u001b[34;1mStep  52/340:\u001b[0m Solving 2 years, 6.522 weeks to 2 years, 8.696 weeks, Δt = 2 weeks, 1.218 day \n",
      "\u001b[34;1mStep  53/340:\u001b[0m Solving 2 years, 8.696 weeks to 2 years, 10.87 weeks, Δt = 2 weeks, 1.218 day \n",
      "\u001b[34;1mStep  54/340:\u001b[0m Solving 2 years, 10.87 weeks to 2 years, 13.04 weeks, Δt = 2 weeks, 1.218 day \n",
      "\u001b[34;1mStep  55/340:\u001b[0m Solving 2 years, 13.04 weeks to 2 years, 15.22 weeks, Δt = 2 weeks, 1.218 day \n",
      "\u001b[34;1mStep  56/340:\u001b[0m Solving 2 years, 15.22 weeks to 2 years, 17.39 weeks, Δt = 2 weeks, 1.218 day \n",
      "\u001b[34;1mStep  57/340:\u001b[0m Solving 2 years, 17.39 weeks to 2 years, 19.57 weeks, Δt = 2 weeks, 1.218 day \n",
      "\u001b[34;1mStep  58/340:\u001b[0m Solving 2 years, 19.57 weeks to 2 years, 21.74 weeks, Δt = 2 weeks, 1.218 day \n",
      "\u001b[34;1mStep  59/340:\u001b[0m Solving 2 years, 21.74 weeks to 2 years, 23.91 weeks, Δt = 2 weeks, 1.218 day \n",
      "\u001b[33;1mConvergence:\u001b[0m Report step 59, mini-step #2 (1 week, 14.62 hours) failed to converge. Reducing mini-step.\n"
     ]
    },
    {
     "name": "stderr",
     "output_type": "stream",
     "text": [
      "┌ Warning: Exception occured in solve: ErrorException(\"Bad linear solve: Linear solver: maximum number of iterations exceeded, final residual: 0.4884801676697824, rel. value 3.903779729915693. rtol = 0.001, atol = 1.0e-12, max_it = 50\"). Attempting to cut time-step since failure_cuts_timestep = true.\n",
      "└ @ Jutul C:\\Users\\mmorales\\.julia\\packages\\Jutul\\awbiL\\src\\simulator\\simulator.jl:457\n",
      "┌ Warning: Exception occurred in perform_step!\n",
      "│   inner_exception = ErrorException(\"Bad linear solve: Linear solver: maximum number of iterations exceeded, final residual: 0.4884801676697824, rel. value 3.903779729915693. rtol = 0.001, atol = 1.0e-12, max_it = 50\")\n",
      "└ @ Jutul C:\\Users\\mmorales\\.julia\\packages\\Jutul\\awbiL\\src\\simulator\\simulator.jl:529\n"
     ]
    },
    {
     "name": "stdout",
     "output_type": "stream",
     "text": [
      "\u001b[34;1mStep  60/340:\u001b[0m Solving 2 years, 23.91 weeks to 2 years, 26.09 weeks, Δt = 2 weeks, 1.218 day \n",
      "\u001b[34;1mStep  61/340:\u001b[0m Solving 2 years, 26.09 weeks to 2 years, 28.26 weeks, Δt = 2 weeks, 1.218 day \n",
      "\u001b[34;1mStep  62/340:\u001b[0m Solving 2 years, 28.26 weeks to 2 years, 30.44 weeks, Δt = 2 weeks, 1.218 day \n",
      "\u001b[34;1mStep  63/340:\u001b[0m Solving 2 years, 30.44 weeks to 2 years, 32.61 weeks, Δt = 2 weeks, 1.218 day \n",
      "\u001b[34;1mStep  64/340:\u001b[0m Solving 2 years, 32.61 weeks to 2 years, 34.78 weeks, Δt = 2 weeks, 1.218 day \n",
      "\u001b[34;1mStep  65/340:\u001b[0m Solving 2 years, 34.78 weeks to 2 years, 36.96 weeks, Δt = 2 weeks, 1.218 day \n",
      "\u001b[34;1mStep  66/340:\u001b[0m Solving 2 years, 36.96 weeks to 2 years, 39.13 weeks, Δt = 2 weeks, 1.218 day \n",
      "\u001b[34;1mStep  67/340:\u001b[0m Solving 2 years, 39.13 weeks to 2 years, 41.31 weeks, Δt = 2 weeks, 1.218 day \n",
      "\u001b[34;1mStep  68/340:\u001b[0m Solving 2 years, 41.31 weeks to 2 years, 43.48 weeks, Δt = 2 weeks, 1.218 day \n",
      "\u001b[34;1mStep  69/340:\u001b[0m Solving 2 years, 43.48 weeks to 2 years, 45.66 weeks, Δt = 2 weeks, 1.218 day \n",
      "\u001b[33;1mConvergence:\u001b[0m Report step 69, mini-step #1 (5 days, 18.29 hours) failed to converge. Reducing mini-step."
     ]
    },
    {
     "name": "stderr",
     "output_type": "stream",
     "text": [
      "┌ Warning: Exception occured in solve: ErrorException(\"Bad linear solve: Linear solver: maximum number of iterations exceeded, final residual: 0.6546382870313082, rel. value 3.884174025495694. rtol = 0.001, atol = 1.0e-12, max_it = 50\"). Attempting to cut time-step since failure_cuts_timestep = true.\n",
      "└ @ Jutul C:\\Users\\mmorales\\.julia\\packages\\Jutul\\awbiL\\src\\simulator\\simulator.jl:457\n",
      "┌ Warning: Exception occurred in perform_step!\n",
      "│   inner_exception = ErrorException(\"Bad linear solve: Linear solver: maximum number of iterations exceeded, final residual: 0.6546382870313082, rel. value 3.884174025495694. rtol = 0.001, atol = 1.0e-12, max_it = 50\")\n",
      "└ @ Jutul C:\\Users\\mmorales\\.julia\\packages\\Jutul\\awbiL\\src\\simulator\\simulator.jl:529\n"
     ]
    },
    {
     "name": "stdout",
     "output_type": "stream",
     "text": [
      "\n",
      "\u001b[34;1mStep  70/340:\u001b[0m Solving 2 years, 45.66 weeks to 2 years, 47.83 weeks, Δt = 2 weeks, 1.218 day \n",
      "\u001b[34;1mStep  71/340:\u001b[0m Solving 2 years, 47.83 weeks to 2 years, 50 weeks, Δt = 2 weeks, 1.218 day \n",
      "\u001b[34;1mStep  72/340:\u001b[0m Solving 2 years, 50 weeks to 3 years, Δt = 2 weeks, 1.218 day \n",
      "\u001b[34;1mStep  73/340:\u001b[0m Solving 3 years to 3 years, 2.174 weeks, Δt = 2 weeks, 1.218 day \n",
      "\u001b[34;1mStep  74/340:\u001b[0m Solving 3 years, 2.174 weeks to 3 years, 4.348 weeks, Δt = 2 weeks, 1.218 day \n",
      "\u001b[34;1mStep  75/340:\u001b[0m Solving 3 years, 4.348 weeks to 3 years, 6.522 weeks, Δt = 2 weeks, 1.218 day \n",
      "\u001b[33;1mConvergence:\u001b[0m Report step 75, mini-step #2 (1 week, 1.993 day) failed to converge. Reducing mini-step."
     ]
    },
    {
     "name": "stderr",
     "output_type": "stream",
     "text": [
      "┌ Warning: Exception occured in solve: ErrorException(\"Bad linear solve: Linear solver: maximum number of iterations exceeded, final residual: 0.19970481570499285, rel. value 1.5887891599491923. rtol = 0.001, atol = 1.0e-12, max_it = 50\"). Attempting to cut time-step since failure_cuts_timestep = true.\n",
      "└ @ Jutul C:\\Users\\mmorales\\.julia\\packages\\Jutul\\awbiL\\src\\simulator\\simulator.jl:457\n",
      "┌ Warning: Exception occurred in perform_step!\n",
      "│   inner_exception = ErrorException(\"Bad linear solve: Linear solver: maximum number of iterations exceeded, final residual: 0.19970481570499285, rel. value 1.5887891599491923. rtol = 0.001, atol = 1.0e-12, max_it = 50\")\n",
      "└ @ Jutul C:\\Users\\mmorales\\.julia\\packages\\Jutul\\awbiL\\src\\simulator\\simulator.jl:529\n"
     ]
    },
    {
     "name": "stdout",
     "output_type": "stream",
     "text": [
      "\n",
      "\u001b[33;1mConvergence:\u001b[0m Report step 75, mini-step #3 (4 days, 11.91 hours) failed to converge. Reducing mini-step.\n"
     ]
    },
    {
     "name": "stderr",
     "output_type": "stream",
     "text": [
      "┌ Warning: Exception occured in solve: ErrorException(\"Bad linear solve: Linear solver: maximum number of iterations exceeded, final residual: 0.18850984276616742, rel. value 1.1092169267343073. rtol = 0.001, atol = 1.0e-12, max_it = 50\"). Attempting to cut time-step since failure_cuts_timestep = true.\n",
      "└ @ Jutul C:\\Users\\mmorales\\.julia\\packages\\Jutul\\awbiL\\src\\simulator\\simulator.jl:457\n",
      "┌ Warning: Exception occurred in perform_step!\n",
      "│   inner_exception = ErrorException(\"Bad linear solve: Linear solver: maximum number of iterations exceeded, final residual: 0.18850984276616742, rel. value 1.1092169267343073. rtol = 0.001, atol = 1.0e-12, max_it = 50\")\n",
      "└ @ Jutul C:\\Users\\mmorales\\.julia\\packages\\Jutul\\awbiL\\src\\simulator\\simulator.jl:529\n"
     ]
    },
    {
     "name": "stdout",
     "output_type": "stream",
     "text": [
      "\u001b[34;1mStep  76/340:\u001b[0m Solving 3 years, 6.522 weeks to 3 years, 8.696 weeks, Δt = 2 weeks, 1.218 day \n",
      "\u001b[34;1mStep  77/340:\u001b[0m Solving 3 years, 8.696 weeks to 3 years, 10.87 weeks, Δt = 2 weeks, 1.218 day \n",
      "\u001b[34;1mStep  78/340:\u001b[0m Solving 3 years, 10.87 weeks to 3 years, 13.04 weeks, Δt = 2 weeks, 1.218 day \n",
      "\u001b[34;1mStep  79/340:\u001b[0m Solving 3 years, 13.04 weeks to 3 years, 15.22 weeks, Δt = 2 weeks, 1.218 day \n",
      "\u001b[34;1mStep  80/340:\u001b[0m Solving 3 years, 15.22 weeks to 3 years, 17.39 weeks, Δt = 2 weeks, 1.218 day \n",
      "\u001b[34;1mStep  81/340:\u001b[0m Solving 3 years, 17.39 weeks to 3 years, 19.57 weeks, Δt = 2 weeks, 1.218 day \n",
      "\u001b[34;1mStep  82/340:\u001b[0m Solving 3 years, 19.57 weeks to 3 years, 21.74 weeks, Δt = 2 weeks, 1.218 day \n",
      "\u001b[34;1mStep  83/340:\u001b[0m Solving 3 years, 21.74 weeks to 3 years, 23.91 weeks, Δt = 2 weeks, 1.218 day \n",
      "\u001b[33;1mConvergence:\u001b[0m Report step 83, mini-step #1 (2 weeks, 1.218 day) failed to converge. Reducing mini-step.\n",
      "\u001b[33;1mConvergence:\u001b[0m Report step 83, mini-step #2 (1 week, 14.62 hours) failed to converge. Reducing mini-step.\n"
     ]
    },
    {
     "name": "stderr",
     "output_type": "stream",
     "text": [
      "┌ Warning: Exception occured in solve: ErrorException(\"Bad linear solve: Linear solver: maximum number of iterations exceeded, final residual: 0.16421629344232508, rel. value 2.237563743632109. rtol = 0.001, atol = 1.0e-12, max_it = 50\"). Attempting to cut time-step since failure_cuts_timestep = true.\n",
      "└ @ Jutul C:\\Users\\mmorales\\.julia\\packages\\Jutul\\awbiL\\src\\simulator\\simulator.jl:457\n",
      "┌ Warning: Exception occurred in perform_step!\n",
      "│   inner_exception = ErrorException(\"Bad linear solve: Linear solver: maximum number of iterations exceeded, final residual: 0.16421629344232508, rel. value 2.237563743632109. rtol = 0.001, atol = 1.0e-12, max_it = 50\")\n",
      "└ @ Jutul C:\\Users\\mmorales\\.julia\\packages\\Jutul\\awbiL\\src\\simulator\\simulator.jl:529\n"
     ]
    },
    {
     "name": "stdout",
     "output_type": "stream",
     "text": [
      "\u001b[34;1mStep  84/340:\u001b[0m Solving 3 years, 23.91 weeks to 3 years, 26.09 weeks, Δt = 2 weeks, 1.218 day \n",
      "\u001b[34;1mStep  85/340:\u001b[0m Solving 3 years, 26.09 weeks to 3 years, 28.26 weeks, Δt = 2 weeks, 1.218 day \n",
      "\u001b[33;1mConvergence:\u001b[0m Report step 85, mini-step #2 (1 week, 14.62 hours) failed to converge. Reducing mini-step.\n"
     ]
    },
    {
     "name": "stderr",
     "output_type": "stream",
     "text": [
      "┌ Warning: Exception occured in solve: ErrorException(\"Bad linear solve: Linear solver: maximum number of iterations exceeded, final residual: 0.18603281435944097, rel. value 1.0502223549809184. rtol = 0.001, atol = 1.0e-12, max_it = 50\"). Attempting to cut time-step since failure_cuts_timestep = true.\n",
      "└ @ Jutul C:\\Users\\mmorales\\.julia\\packages\\Jutul\\awbiL\\src\\simulator\\simulator.jl:457\n",
      "┌ Warning: Exception occurred in perform_step!\n",
      "│   inner_exception = ErrorException(\"Bad linear solve: Linear solver: maximum number of iterations exceeded, final residual: 0.18603281435944097, rel. value 1.0502223549809184. rtol = 0.001, atol = 1.0e-12, max_it = 50\")\n",
      "└ @ Jutul C:\\Users\\mmorales\\.julia\\packages\\Jutul\\awbiL\\src\\simulator\\simulator.jl:529\n"
     ]
    },
    {
     "name": "stdout",
     "output_type": "stream",
     "text": [
      "\u001b[33;1mConvergence:\u001b[0m Report step 85, mini-step #4 (3 days, 19.31 hours) failed to converge. Reducing mini-step.\n"
     ]
    },
    {
     "name": "stderr",
     "output_type": "stream",
     "text": [
      "┌ Warning: Exception occured in solve: ErrorException(\"Bad linear solve: Linear solver: maximum number of iterations exceeded, final residual: 0.24686361567630544, rel. value 1.4639884772388223. rtol = 0.001, atol = 1.0e-12, max_it = 50\"). Attempting to cut time-step since failure_cuts_timestep = true.\n",
      "└ @ Jutul C:\\Users\\mmorales\\.julia\\packages\\Jutul\\awbiL\\src\\simulator\\simulator.jl:457\n",
      "┌ Warning: Exception occurred in perform_step!\n",
      "│   inner_exception = ErrorException(\"Bad linear solve: Linear solver: maximum number of iterations exceeded, final residual: 0.24686361567630544, rel. value 1.4639884772388223. rtol = 0.001, atol = 1.0e-12, max_it = 50\")\n",
      "└ @ Jutul C:\\Users\\mmorales\\.julia\\packages\\Jutul\\awbiL\\src\\simulator\\simulator.jl:529\n"
     ]
    },
    {
     "name": "stdout",
     "output_type": "stream",
     "text": [
      "\u001b[34;1mStep  86/340:\u001b[0m Solving 3 years, 28.26 weeks to 3 years, 30.44 weeks, Δt = 2 weeks, 1.218 day \n",
      "\u001b[34;1mStep  87/340:\u001b[0m Solving 3 years, 30.44 weeks to 3 years, 32.61 weeks, Δt = 2 weeks, 1.218 day \n",
      "\u001b[34;1mStep  88/340:\u001b[0m Solving 3 years, 32.61 weeks to 3 years, 34.78 weeks, Δt = 2 weeks, 1.218 day \n",
      "\u001b[34;1mStep  89/340:\u001b[0m Solving 3 years, 34.78 weeks to 3 years, 36.96 weeks, Δt = 2 weeks, 1.218 day \n",
      "\u001b[34;1mStep  90/340:\u001b[0m Solving 3 years, 36.96 weeks to 3 years, 39.13 weeks, Δt = 2 weeks, 1.218 day \n",
      "\u001b[34;1mStep  91/340:\u001b[0m Solving 3 years, 39.13 weeks to 3 years, 41.31 weeks, Δt = 2 weeks, 1.218 day \n",
      "\u001b[34;1mStep  92/340:\u001b[0m Solving 3 years, 41.31 weeks to 3 years, 43.48 weeks, Δt = 2 weeks, 1.218 day \n",
      "\u001b[34;1mStep  93/340:\u001b[0m Solving 3 years, 43.48 weeks to 3 years, 45.66 weeks, Δt = 2 weeks, 1.218 day \n",
      "\u001b[34;1mStep  94/340:\u001b[0m Solving 3 years, 45.66 weeks to 3 years, 47.83 weeks, Δt = 2 weeks, 1.218 day \n",
      "\u001b[34;1mStep  95/340:\u001b[0m Solving 3 years, 47.83 weeks to 3 years, 50 weeks, Δt = 2 weeks, 1.218 day \n",
      "\u001b[34;1mStep  96/340:\u001b[0m Solving 3 years, 50 weeks to 4 years, Δt = 2 weeks, 1.218 day \n",
      "\u001b[34;1mStep  97/340:\u001b[0m Solving 4 years to 4 years, 2.174 weeks, Δt = 2 weeks, 1.218 day \n",
      "\u001b[34;1mStep  98/340:\u001b[0m Solving 4 years, 2.174 weeks to 4 years, 4.348 weeks, Δt = 2 weeks, 1.218 day \n",
      "\u001b[34;1mStep  99/340:\u001b[0m Solving 4 years, 4.348 weeks to 4 years, 6.522 weeks, Δt = 2 weeks, 1.218 day \n",
      "\u001b[34;1mStep 100/340:\u001b[0m Solving 4 years, 6.522 weeks to 4 years, 8.696 weeks, Δt = 2 weeks, 1.218 day \n",
      "\u001b[34;1mStep 101/340:\u001b[0m Solving 4 years, 8.696 weeks to 4 years, 10.87 weeks, Δt = 2 weeks, 1.218 day \n",
      "\u001b[34;1mStep 102/340:\u001b[0m Solving 4 years, 10.87 weeks to 4 years, 13.04 weeks, Δt = 2 weeks, 1.218 day \n",
      "\u001b[34;1mStep 103/340:\u001b[0m Solving 4 years, 13.04 weeks to 4 years, 15.22 weeks, Δt = 2 weeks, 1.218 day \n",
      "\u001b[34;1mStep 104/340:\u001b[0m Solving 4 years, 15.22 weeks to 4 years, 17.39 weeks, Δt = 2 weeks, 1.218 day \n",
      "\u001b[34;1mStep 105/340:\u001b[0m Solving 4 years, 17.39 weeks to 4 years, 19.57 weeks, Δt = 2 weeks, 1.218 day \n",
      "\u001b[34;1mStep 106/340:\u001b[0m Solving 4 years, 19.57 weeks to 4 years, 21.74 weeks, Δt = 2 weeks, 1.218 day \n",
      "\u001b[34;1mStep 107/340:\u001b[0m Solving 4 years, 21.74 weeks to 4 years, 23.91 weeks, Δt = 2 weeks, 1.218 day \n",
      "\u001b[34;1mStep 108/340:\u001b[0m Solving 4 years, 23.91 weeks to 4 years, 26.09 weeks, Δt = 2 weeks, 1.218 day \n",
      "\u001b[34;1mStep 109/340:\u001b[0m Solving 4 years, 26.09 weeks to 4 years, 28.26 weeks, Δt = 2 weeks, 1.218 day \n",
      "\u001b[34;1mStep 110/340:\u001b[0m Solving 4 years, 28.26 weeks to 4 years, 30.44 weeks, Δt = 2 weeks, 1.218 day \n",
      "\u001b[34;1mStep 111/340:\u001b[0m Solving 4 years, 30.44 weeks to 4 years, 32.61 weeks, Δt = 2 weeks, 1.218 day \n",
      "\u001b[34;1mStep 112/340:\u001b[0m Solving 4 years, 32.61 weeks to 4 years, 34.78 weeks, Δt = 2 weeks, 1.218 day \n",
      "\u001b[34;1mStep 113/340:\u001b[0m Solving 4 years, 34.78 weeks to 4 years, 36.96 weeks, Δt = 2 weeks, 1.218 day \n",
      "\u001b[34;1mStep 114/340:\u001b[0m Solving 4 years, 36.96 weeks to 4 years, 39.13 weeks, Δt = 2 weeks, 1.218 day \n",
      "\u001b[34;1mStep 115/340:\u001b[0m Solving 4 years, 39.13 weeks to 4 years, 41.31 weeks, Δt = 2 weeks, 1.218 day \n",
      "\u001b[34;1mStep 116/340:\u001b[0m Solving 4 years, 41.31 weeks to 4 years, 43.48 weeks, Δt = 2 weeks, 1.218 day \n",
      "\u001b[34;1mStep 117/340:\u001b[0m Solving 4 years, 43.48 weeks to 4 years, 45.66 weeks, Δt = 2 weeks, 1.218 day \n",
      "\u001b[34;1mStep 118/340:\u001b[0m Solving 4 years, 45.66 weeks to 4 years, 47.83 weeks, Δt = 2 weeks, 1.218 day \n",
      "\u001b[34;1mStep 119/340:\u001b[0m Solving 4 years, 47.83 weeks to 4 years, 50 weeks, Δt = 2 weeks, 1.218 day \n",
      "\u001b[34;1mStep 120/340:\u001b[0m Solving 4 years, 50 weeks to 5 years, Δt = 2 weeks, 1.218 day \n",
      "\u001b[34;1mStep 121/340:\u001b[0m Solving 5 years to 5 years, 2.174 weeks, Δt = 2 weeks, 1.218 day \n",
      "\u001b[34;1mStep 122/340:\u001b[0m Solving 5 years, 2.174 weeks to 5 years, 4.348 weeks, Δt = 2 weeks, 1.218 day \n",
      "\u001b[34;1mStep 123/340:\u001b[0m Solving 5 years, 4.348 weeks to 5 years, 6.522 weeks, Δt = 2 weeks, 1.218 day \n",
      "\u001b[34;1mStep 124/340:\u001b[0m Solving 5 years, 6.522 weeks to 5 years, 8.696 weeks, Δt = 2 weeks, 1.218 day \n",
      "\u001b[34;1mStep 125/340:\u001b[0m Solving 5 years, 8.696 weeks to 5 years, 10.87 weeks, Δt = 2 weeks, 1.218 day \n",
      "\u001b[34;1mStep 126/340:\u001b[0m Solving 5 years, 10.87 weeks to 5 years, 13.04 weeks, Δt = 2 weeks, 1.218 day \n",
      "\u001b[34;1mStep 127/340:\u001b[0m Solving 5 years, 13.04 weeks to 5 years, 15.22 weeks, Δt = 2 weeks, 1.218 day \n",
      "\u001b[34;1mStep 128/340:\u001b[0m Solving 5 years, 15.22 weeks to 5 years, 17.39 weeks, Δt = 2 weeks, 1.218 day \n",
      "\u001b[34;1mStep 129/340:\u001b[0m Solving 5 years, 17.39 weeks to 5 years, 19.57 weeks, Δt = 2 weeks, 1.218 day \n",
      "\u001b[34;1mStep 130/340:\u001b[0m Solving 5 years, 19.57 weeks to 5 years, 21.74 weeks, Δt = 2 weeks, 1.218 day \n",
      "\u001b[34;1mStep 131/340:\u001b[0m Solving 5 years, 21.74 weeks to 5 years, 23.91 weeks, Δt = 2 weeks, 1.218 day \n",
      "\u001b[34;1mStep 132/340:\u001b[0m Solving 5 years, 23.91 weeks to 5 years, 26.09 weeks, Δt = 2 weeks, 1.218 day \n",
      "\u001b[34;1mStep 133/340:\u001b[0m Solving 5 years, 26.09 weeks to 5 years, 28.26 weeks, Δt = 2 weeks, 1.218 day \n",
      "\u001b[34;1mStep 134/340:\u001b[0m Solving 5 years, 28.26 weeks to 5 years, 30.44 weeks, Δt = 2 weeks, 1.218 day \n",
      "\u001b[34;1mStep 135/340:\u001b[0m Solving 5 years, 30.44 weeks to 5 years, 32.61 weeks, Δt = 2 weeks, 1.218 day \n",
      "\u001b[34;1mStep 136/340:\u001b[0m Solving 5 years, 32.61 weeks to 5 years, 34.78 weeks, Δt = 2 weeks, 1.218 day \n",
      "\u001b[34;1mStep 137/340:\u001b[0m Solving 5 years, 34.78 weeks to 5 years, 36.96 weeks, Δt = 2 weeks, 1.218 day \n",
      "\u001b[34;1mStep 138/340:\u001b[0m Solving 5 years, 36.96 weeks to 5 years, 39.13 weeks, Δt = 2 weeks, 1.218 day \n",
      "\u001b[34;1mStep 139/340:\u001b[0m Solving 5 years, 39.13 weeks to 5 years, 41.31 weeks, Δt = 2 weeks, 1.218 day \n",
      "\u001b[34;1mStep 140/340:\u001b[0m Solving 5 years, 41.31 weeks to 5 years, 43.48 weeks, Δt = 2 weeks, 1.218 day \n",
      "\u001b[34;1mStep 141/340:\u001b[0m Solving 5 years, 43.48 weeks to 5 years, 45.66 weeks, Δt = 2 weeks, 1.218 day \n",
      "\u001b[34;1mStep 142/340:\u001b[0m Solving 5 years, 45.66 weeks to 5 years, 47.83 weeks, Δt = 2 weeks, 1.218 day \n",
      "\u001b[34;1mStep 143/340:\u001b[0m Solving 5 years, 47.83 weeks to 5 years, 50 weeks, Δt = 2 weeks, 1.218 day \n",
      "\u001b[34;1mStep 144/340:\u001b[0m Solving 5 years, 50 weeks to 6 years, Δt = 2 weeks, 1.218 day \n",
      "\u001b[34;1mStep 145/340:\u001b[0m Solving 6 years to 6 years, 2.174 weeks, Δt = 2 weeks, 1.218 day \n",
      "\u001b[34;1mStep 146/340:\u001b[0m Solving 6 years, 2.174 weeks to 6 years, 4.348 weeks, Δt = 2 weeks, 1.218 day \n",
      "\u001b[34;1mStep 147/340:\u001b[0m Solving 6 years, 4.348 weeks to 6 years, 6.522 weeks, Δt = 2 weeks, 1.218 day \n",
      "\u001b[34;1mStep 148/340:\u001b[0m Solving 6 years, 6.522 weeks to 6 years, 8.696 weeks, Δt = 2 weeks, 1.218 day \n",
      "\u001b[34;1mStep 149/340:\u001b[0m Solving 6 years, 8.696 weeks to 6 years, 10.87 weeks, Δt = 2 weeks, 1.218 day \n",
      "\u001b[34;1mStep 150/340:\u001b[0m Solving 6 years, 10.87 weeks to 6 years, 13.04 weeks, Δt = 2 weeks, 1.218 day \n",
      "\u001b[34;1mStep 151/340:\u001b[0m Solving 6 years, 13.04 weeks to 6 years, 15.22 weeks, Δt = 2 weeks, 1.218 day \n",
      "\u001b[34;1mStep 152/340:\u001b[0m Solving 6 years, 15.22 weeks to 6 years, 17.39 weeks, Δt = 2 weeks, 1.218 day \n",
      "\u001b[34;1mStep 153/340:\u001b[0m Solving 6 years, 17.39 weeks to 6 years, 19.57 weeks, Δt = 2 weeks, 1.218 day \n",
      "\u001b[34;1mStep 154/340:\u001b[0m Solving 6 years, 19.57 weeks to 6 years, 21.74 weeks, Δt = 2 weeks, 1.218 day \n",
      "\u001b[34;1mStep 155/340:\u001b[0m Solving 6 years, 21.74 weeks to 6 years, 23.91 weeks, Δt = 2 weeks, 1.218 day \n",
      "\u001b[34;1mStep 156/340:\u001b[0m Solving 6 years, 23.91 weeks to 6 years, 26.09 weeks, Δt = 2 weeks, 1.218 day \n",
      "\u001b[34;1mStep 157/340:\u001b[0m Solving 6 years, 26.09 weeks to 6 years, 28.26 weeks, Δt = 2 weeks, 1.218 day \n",
      "\u001b[34;1mStep 158/340:\u001b[0m Solving 6 years, 28.26 weeks to 6 years, 30.44 weeks, Δt = 2 weeks, 1.218 day \n",
      "\u001b[34;1mStep 159/340:\u001b[0m Solving 6 years, 30.44 weeks to 6 years, 32.61 weeks, Δt = 2 weeks, 1.218 day \n",
      "\u001b[34;1mStep 160/340:\u001b[0m Solving 6 years, 32.61 weeks to 6 years, 34.78 weeks, Δt = 2 weeks, 1.218 day \n",
      "\u001b[34;1mStep 161/340:\u001b[0m Solving 6 years, 34.78 weeks to 6 years, 36.96 weeks, Δt = 2 weeks, 1.218 day \n",
      "\u001b[34;1mStep 162/340:\u001b[0m Solving 6 years, 36.96 weeks to 6 years, 39.13 weeks, Δt = 2 weeks, 1.218 day \n",
      "\u001b[34;1mStep 163/340:\u001b[0m Solving 6 years, 39.13 weeks to 6 years, 41.31 weeks, Δt = 2 weeks, 1.218 day \n",
      "\u001b[34;1mStep 164/340:\u001b[0m Solving 6 years, 41.31 weeks to 6 years, 43.48 weeks, Δt = 2 weeks, 1.218 day \n",
      "\u001b[34;1mStep 165/340:\u001b[0m Solving 6 years, 43.48 weeks to 6 years, 45.66 weeks, Δt = 2 weeks, 1.218 day \n",
      "\u001b[34;1mStep 166/340:\u001b[0m Solving 6 years, 45.66 weeks to 6 years, 47.83 weeks, Δt = 2 weeks, 1.218 day \n",
      "\u001b[34;1mStep 167/340:\u001b[0m Solving 6 years, 47.83 weeks to 6 years, 50 weeks, Δt = 2 weeks, 1.218 day \n",
      "\u001b[34;1mStep 168/340:\u001b[0m Solving 6 years, 50 weeks to 7 years, Δt = 2 weeks, 1.218 day \n",
      "\u001b[34;1mStep 169/340:\u001b[0m Solving 7 years to 7 years, 2.174 weeks, Δt = 2 weeks, 1.218 day \n",
      "\u001b[34;1mStep 170/340:\u001b[0m Solving 7 years, 2.174 weeks to 7 years, 4.348 weeks, Δt = 2 weeks, 1.218 day \n",
      "\u001b[34;1mStep 171/340:\u001b[0m Solving 7 years, 4.348 weeks to 7 years, 6.522 weeks, Δt = 2 weeks, 1.218 day \n",
      "\u001b[34;1mStep 172/340:\u001b[0m Solving 7 years, 6.522 weeks to 7 years, 8.696 weeks, Δt = 2 weeks, 1.218 day \n",
      "\u001b[34;1mStep 173/340:\u001b[0m Solving 7 years, 8.696 weeks to 7 years, 10.87 weeks, Δt = 2 weeks, 1.218 day \n",
      "\u001b[34;1mStep 174/340:\u001b[0m Solving 7 years, 10.87 weeks to 7 years, 13.04 weeks, Δt = 2 weeks, 1.218 day \n",
      "\u001b[34;1mStep 175/340:\u001b[0m Solving 7 years, 13.04 weeks to 7 years, 15.22 weeks, Δt = 2 weeks, 1.218 day \n",
      "\u001b[34;1mStep 176/340:\u001b[0m Solving 7 years, 15.22 weeks to 7 years, 17.39 weeks, Δt = 2 weeks, 1.218 day \n",
      "\u001b[34;1mStep 177/340:\u001b[0m Solving 7 years, 17.39 weeks to 7 years, 19.57 weeks, Δt = 2 weeks, 1.218 day \n",
      "\u001b[34;1mStep 178/340:\u001b[0m Solving 7 years, 19.57 weeks to 7 years, 21.74 weeks, Δt = 2 weeks, 1.218 day \n",
      "\u001b[34;1mStep 179/340:\u001b[0m Solving 7 years, 21.74 weeks to 7 years, 23.91 weeks, Δt = 2 weeks, 1.218 day \n",
      "\u001b[34;1mStep 180/340:\u001b[0m Solving 7 years, 23.91 weeks to 7 years, 26.09 weeks, Δt = 2 weeks, 1.218 day \n",
      "\u001b[34;1mStep 181/340:\u001b[0m Solving 7 years, 26.09 weeks to 7 years, 28.26 weeks, Δt = 2 weeks, 1.218 day \n",
      "\u001b[34;1mStep 182/340:\u001b[0m Solving 7 years, 28.26 weeks to 7 years, 30.44 weeks, Δt = 2 weeks, 1.218 day \n",
      "\u001b[34;1mStep 183/340:\u001b[0m Solving 7 years, 30.44 weeks to 7 years, 32.61 weeks, Δt = 2 weeks, 1.218 day \n",
      "\u001b[34;1mStep 184/340:\u001b[0m Solving 7 years, 32.61 weeks to 7 years, 34.78 weeks, Δt = 2 weeks, 1.218 day \n",
      "\u001b[34;1mStep 185/340:\u001b[0m Solving 7 years, 34.78 weeks to 7 years, 36.96 weeks, Δt = 2 weeks, 1.218 day \n",
      "\u001b[34;1mStep 186/340:\u001b[0m Solving 7 years, 36.96 weeks to 7 years, 39.13 weeks, Δt = 2 weeks, 1.218 day \n",
      "\u001b[34;1mStep 187/340:\u001b[0m Solving 7 years, 39.13 weeks to 7 years, 41.31 weeks, Δt = 2 weeks, 1.218 day \n",
      "\u001b[34;1mStep 188/340:\u001b[0m Solving 7 years, 41.31 weeks to 7 years, 43.48 weeks, Δt = 2 weeks, 1.218 day \n",
      "\u001b[34;1mStep 189/340:\u001b[0m Solving 7 years, 43.48 weeks to 7 years, 45.66 weeks, Δt = 2 weeks, 1.218 day \n",
      "\u001b[34;1mStep 190/340:\u001b[0m Solving 7 years, 45.66 weeks to 7 years, 47.83 weeks, Δt = 2 weeks, 1.218 day \n",
      "\u001b[34;1mStep 191/340:\u001b[0m Solving 7 years, 47.83 weeks to 7 years, 50 weeks, Δt = 2 weeks, 1.218 day \n",
      "\u001b[34;1mStep 192/340:\u001b[0m Solving 7 years, 50 weeks to 8 years, Δt = 2 weeks, 1.218 day \n",
      "\u001b[34;1mStep 193/340:\u001b[0m Solving 8 years to 8 years, 2.174 weeks, Δt = 2 weeks, 1.218 day \n",
      "\u001b[34;1mStep 194/340:\u001b[0m Solving 8 years, 2.174 weeks to 8 years, 4.348 weeks, Δt = 2 weeks, 1.218 day \n",
      "\u001b[34;1mStep 195/340:\u001b[0m Solving 8 years, 4.348 weeks to 8 years, 6.522 weeks, Δt = 2 weeks, 1.218 day \n",
      "\u001b[34;1mStep 196/340:\u001b[0m Solving 8 years, 6.522 weeks to 8 years, 8.696 weeks, Δt = 2 weeks, 1.218 day \n",
      "\u001b[34;1mStep 197/340:\u001b[0m Solving 8 years, 8.696 weeks to 8 years, 10.87 weeks, Δt = 2 weeks, 1.218 day \n",
      "\u001b[34;1mStep 198/340:\u001b[0m Solving 8 years, 10.87 weeks to 8 years, 13.04 weeks, Δt = 2 weeks, 1.218 day \n",
      "\u001b[34;1mStep 199/340:\u001b[0m Solving 8 years, 13.04 weeks to 8 years, 15.22 weeks, Δt = 2 weeks, 1.218 day \n",
      "\u001b[34;1mStep 200/340:\u001b[0m Solving 8 years, 15.22 weeks to 8 years, 17.39 weeks, Δt = 2 weeks, 1.218 day \n",
      "\u001b[34;1mStep 201/340:\u001b[0m Solving 8 years, 17.39 weeks to 8 years, 19.57 weeks, Δt = 2 weeks, 1.218 day \n",
      "\u001b[34;1mStep 202/340:\u001b[0m Solving 8 years, 19.57 weeks to 8 years, 21.74 weeks, Δt = 2 weeks, 1.218 day \n",
      "\u001b[34;1mStep 203/340:\u001b[0m Solving 8 years, 21.74 weeks to 8 years, 23.91 weeks, Δt = 2 weeks, 1.218 day \n",
      "\u001b[34;1mStep 204/340:\u001b[0m Solving 8 years, 23.91 weeks to 8 years, 26.09 weeks, Δt = 2 weeks, 1.218 day \n",
      "\u001b[34;1mStep 205/340:\u001b[0m Solving 8 years, 26.09 weeks to 8 years, 28.26 weeks, Δt = 2 weeks, 1.218 day \n",
      "\u001b[34;1mStep 206/340:\u001b[0m Solving 8 years, 28.26 weeks to 8 years, 30.44 weeks, Δt = 2 weeks, 1.218 day \n",
      "\u001b[34;1mStep 207/340:\u001b[0m Solving 8 years, 30.44 weeks to 8 years, 32.61 weeks, Δt = 2 weeks, 1.218 day \n",
      "\u001b[34;1mStep 208/340:\u001b[0m Solving 8 years, 32.61 weeks to 8 years, 34.78 weeks, Δt = 2 weeks, 1.218 day \n",
      "\u001b[34;1mStep 209/340:\u001b[0m Solving 8 years, 34.78 weeks to 8 years, 36.96 weeks, Δt = 2 weeks, 1.218 day \n",
      "\u001b[34;1mStep 210/340:\u001b[0m Solving 8 years, 36.96 weeks to 8 years, 39.13 weeks, Δt = 2 weeks, 1.218 day \n",
      "\u001b[34;1mStep 211/340:\u001b[0m Solving 8 years, 39.13 weeks to 8 years, 41.31 weeks, Δt = 2 weeks, 1.218 day \n",
      "\u001b[34;1mStep 212/340:\u001b[0m Solving 8 years, 41.31 weeks to 8 years, 43.48 weeks, Δt = 2 weeks, 1.218 day \n",
      "\u001b[34;1mStep 213/340:\u001b[0m Solving 8 years, 43.48 weeks to 8 years, 45.66 weeks, Δt = 2 weeks, 1.218 day \n",
      "\u001b[34;1mStep 214/340:\u001b[0m Solving 8 years, 45.66 weeks to 8 years, 47.83 weeks, Δt = 2 weeks, 1.218 day \n",
      "\u001b[34;1mStep 215/340:\u001b[0m Solving 8 years, 47.83 weeks to 8 years, 50 weeks, Δt = 2 weeks, 1.218 day \n",
      "\u001b[34;1mStep 216/340:\u001b[0m Solving 8 years, 50 weeks to 9 years, Δt = 2 weeks, 1.218 day \n",
      "\u001b[34;1mStep 217/340:\u001b[0m Solving 9 years to 9 years, 2.174 weeks, Δt = 2 weeks, 1.218 day \n",
      "\u001b[34;1mStep 218/340:\u001b[0m Solving 9 years, 2.174 weeks to 9 years, 4.348 weeks, Δt = 2 weeks, 1.218 day \n",
      "\u001b[34;1mStep 219/340:\u001b[0m Solving 9 years, 4.348 weeks to 9 years, 6.522 weeks, Δt = 2 weeks, 1.218 day \n",
      "\u001b[34;1mStep 220/340:\u001b[0m Solving 9 years, 6.522 weeks to 9 years, 8.696 weeks, Δt = 2 weeks, 1.218 day \n",
      "\u001b[34;1mStep 221/340:\u001b[0m Solving 9 years, 8.696 weeks to 9 years, 10.87 weeks, Δt = 2 weeks, 1.218 day \n",
      "\u001b[34;1mStep 222/340:\u001b[0m Solving 9 years, 10.87 weeks to 9 years, 13.04 weeks, Δt = 2 weeks, 1.218 day \n",
      "\u001b[34;1mStep 223/340:\u001b[0m Solving 9 years, 13.04 weeks to 9 years, 15.22 weeks, Δt = 2 weeks, 1.218 day \n",
      "\u001b[34;1mStep 224/340:\u001b[0m Solving 9 years, 15.22 weeks to 9 years, 17.39 weeks, Δt = 2 weeks, 1.218 day \n",
      "\u001b[34;1mStep 225/340:\u001b[0m Solving 9 years, 17.39 weeks to 9 years, 19.57 weeks, Δt = 2 weeks, 1.218 day \n",
      "\u001b[34;1mStep 226/340:\u001b[0m Solving 9 years, 19.57 weeks to 9 years, 21.74 weeks, Δt = 2 weeks, 1.218 day \n",
      "\u001b[34;1mStep 227/340:\u001b[0m Solving 9 years, 21.74 weeks to 9 years, 23.91 weeks, Δt = 2 weeks, 1.218 day \n",
      "\u001b[34;1mStep 228/340:\u001b[0m Solving 9 years, 23.91 weeks to 9 years, 26.09 weeks, Δt = 2 weeks, 1.218 day \n",
      "\u001b[34;1mStep 229/340:\u001b[0m Solving 9 years, 26.09 weeks to 9 years, 28.26 weeks, Δt = 2 weeks, 1.218 day \n",
      "\u001b[34;1mStep 230/340:\u001b[0m Solving 9 years, 28.26 weeks to 9 years, 30.44 weeks, Δt = 2 weeks, 1.218 day \n",
      "\u001b[34;1mStep 231/340:\u001b[0m Solving 9 years, 30.44 weeks to 9 years, 32.61 weeks, Δt = 2 weeks, 1.218 day \n",
      "\u001b[34;1mStep 232/340:\u001b[0m Solving 9 years, 32.61 weeks to 9 years, 34.78 weeks, Δt = 2 weeks, 1.218 day \n",
      "\u001b[34;1mStep 233/340:\u001b[0m Solving 9 years, 34.78 weeks to 9 years, 36.96 weeks, Δt = 2 weeks, 1.218 day \n",
      "\u001b[34;1mStep 234/340:\u001b[0m Solving 9 years, 36.96 weeks to 9 years, 39.13 weeks, Δt = 2 weeks, 1.218 day \n",
      "\u001b[34;1mStep 235/340:\u001b[0m Solving 9 years, 39.13 weeks to 9 years, 41.31 weeks, Δt = 2 weeks, 1.218 day \n",
      "\u001b[34;1mStep 236/340:\u001b[0m Solving 9 years, 41.31 weeks to 9 years, 43.48 weeks, Δt = 2 weeks, 1.218 day \n",
      "\u001b[34;1mStep 237/340:\u001b[0m Solving 9 years, 43.48 weeks to 9 years, 45.66 weeks, Δt = 2 weeks, 1.218 day \n",
      "\u001b[34;1mStep 238/340:\u001b[0m Solving 9 years, 45.66 weeks to 9 years, 47.83 weeks, Δt = 2 weeks, 1.218 day \n",
      "\u001b[34;1mStep 239/340:\u001b[0m Solving 9 years, 47.83 weeks to 9 years, 50 weeks, Δt = 2 weeks, 1.218 day \n",
      "\u001b[34;1mStep 240/340:\u001b[0m Solving 9 years, 50 weeks to 10 years, Δt = 2 weeks, 1.218 day \n",
      "\u001b[34;1mStep 241/340:\u001b[0m Solving 10 years to 15 years, Δt = 5 years \n",
      "\u001b[33;1mConvergence:\u001b[0m Report step 241, mini-step #1 (6 weeks, 3.655 days) failed to converge. Reducing mini-step.\n",
      "\u001b[33;1mConvergence:\u001b[0m Report step 241, mini-step #2 (3 weeks, 1.828 day) failed to converge. Reducing mini-step.\n",
      "\u001b[33;1mConvergence:\u001b[0m Report step 241, mini-step #3 (1 week, 4.414 days) failed to converge. Reducing mini-step.\n",
      "\u001b[33;1mConvergence:\u001b[0m Report step 241, mini-step #4 (5 days, 16.97 hours) failed to converge. Reducing mini-step.\n",
      "\u001b[33;1mConvergence:\u001b[0m Report step 241, mini-step #7 (2 weeks, 1.409 day) failed to converge. Reducing mini-step.\n",
      "\u001b[31;1mConvergence:\u001b[0m Report step 241, mini-step #8 (1 week, 16.9 hours) failed to converge. Aborting.\n",
      "\u001b[31;1;4mSimulation aborted:\u001b[0m Completed 241 of 340 report steps in 15 minutes, 17 seconds, 394.1 milliseconds and 1924 iterations.\n",
      "╭────────────────┬───────────┬───────────────┬────────────────╮\n",
      "│\u001b[1m Iteration type \u001b[0m│\u001b[1m  Avg/step \u001b[0m│\u001b[1m  Avg/ministep \u001b[0m│\u001b[1m          Total \u001b[0m│\n",
      "│\u001b[1m                \u001b[0m│\u001b[90m 241 steps \u001b[0m│\u001b[90m 419 ministeps \u001b[0m│\u001b[90m       (wasted) \u001b[0m│\n",
      "├────────────────┼───────────┼───────────────┼────────────────┤\n",
      "│\u001b[1m Newton         \u001b[0m│    7.9834 │       4.59189 │     1924 (271) │\n",
      "│\u001b[1m Linearization  \u001b[0m│    9.6639 │       5.55847 │     2329 (288) │\n",
      "│\u001b[1m Linear solver  \u001b[0m│   301.859 │       173.623 │  72748 (11009) │\n",
      "│\u001b[1m Precond apply  \u001b[0m│   603.718 │       347.246 │ 145496 (22018) │\n",
      "╰────────────────┴───────────┴───────────────┴────────────────╯\n",
      "╭───────────────┬──────────┬────────────┬──────────╮\n",
      "│\u001b[1m Timing type   \u001b[0m│\u001b[1m     Each \u001b[0m│\u001b[1m   Relative \u001b[0m│\u001b[1m    Total \u001b[0m│\n",
      "│\u001b[1m               \u001b[0m│\u001b[90m       ms \u001b[0m│\u001b[90m Percentage \u001b[0m│\u001b[90m        s \u001b[0m│\n",
      "├───────────────┼──────────┼────────────┼──────────┤\n",
      "│\u001b[1m Properties    \u001b[0m│  13.4167 │     2.81 % │  25.8137 │\n",
      "│\u001b[1m Equations     \u001b[0m│   6.8743 │     1.75 % │  16.0103 │\n",
      "│\u001b[1m Assembly      \u001b[0m│   3.7556 │     0.95 % │   8.7469 │\n",
      "│\u001b[1m Linear solve  \u001b[0m│ 101.3104 │    21.25 % │ 194.9212 │\n",
      "│\u001b[1m Linear setup  \u001b[0m│  38.5611 │     8.09 % │  74.1916 │\n",
      "│\u001b[1m Precond apply \u001b[0m│   3.9817 │    63.15 % │ 579.3147 │\n",
      "│\u001b[1m Update        \u001b[0m│   1.0645 │     0.22 % │   2.0481 │\n",
      "│\u001b[1m Convergence   \u001b[0m│   1.0686 │     0.27 % │   2.4888 │\n",
      "│\u001b[1m Input/Output  \u001b[0m│   1.2287 │     0.06 % │   0.5148 │\n",
      "│\u001b[1m Other         \u001b[0m│   6.9355 │     1.45 % │  13.3439 │\n",
      "├───────────────┼──────────┼────────────┼──────────┤\n",
      "│\u001b[1m Total         \u001b[0m│ 476.8161 │   100.00 % │ 917.3941 │\n",
      "╰───────────────┴──────────┴────────────┴──────────╯\n"
     ]
    },
    {
     "name": "stderr",
     "output_type": "stream",
     "text": [
      "┌ Error: Simulation did not complete successfully.\n",
      "└ @ Jutul C:\\Users\\mmorales\\.julia\\packages\\Jutul\\awbiL\\src\\simulator\\print.jl:179\n"
     ]
    },
    {
     "data": {
      "text/plain": [
       "ReservoirSimResult with 240 entries:\n",
       "\n",
       "  wells (4 present):\n",
       "    :Injector3\n",
       "    :Injector1\n",
       "    :Injector2\n",
       "    :Injector4\n",
       "    Results per well:\n",
       "       :H2O_mass_rate => Vector{Float64} of size (240,)\n",
       "       :lrat => Vector{Float64} of size (240,)\n",
       "       :orat => Vector{Float64} of size (240,)\n",
       "       :control => Vector{Symbol} of size (240,)\n",
       "       :bhp => Vector{Float64} of size (240,)\n",
       "       :CO2_mass_rate => Vector{Float64} of size (240,)\n",
       "       :mass_rate => Vector{Float64} of size (240,)\n",
       "       :rate => Vector{Float64} of size (240,)\n",
       "       :grat => Vector{Float64} of size (240,)\n",
       "\n",
       "  states (Vector with 240 entries, reservoir variables for each state)\n",
       "    :LiquidMassFractions => Matrix{Float64} of size (2, 32768)\n",
       "    :PhaseMassDensities => Matrix{Float64} of size (2, 32768)\n",
       "    :OverallMoleFractions => Matrix{Float64} of size (2, 32768)\n",
       "    :Saturations => Matrix{Float64} of size (2, 32768)\n",
       "    :Pressure => Vector{Float64} of size (32768,)\n",
       "    :VaporMassFractions => Matrix{Float64} of size (2, 32768)\n",
       "    :TotalMasses => Matrix{Float64} of size (2, 32768)\n",
       "\n",
       "  time (report time for each state)\n",
       "     Vector{Float64} of length 240\n",
       "\n",
       "  result (extended states, reports)\n",
       "     SimResult with 240 entries\n",
       "\n",
       "  extra\n",
       "     Dict{Any, Any} with keys :simulator, :config\n",
       "\n",
       "  Completed at Sep. 11 2024 21:09 after 15 minutes, 16 seconds, 879.3 milliseconds."
      ]
     },
     "metadata": {},
     "output_type": "display_data"
    }
   ],
   "source": [
    "# setup schedule\n",
    "#ramps = [1hour, 11hour, 12hour, (4day-24hour), (15day-4day)] #[1hour, 12hour, 24hour, 4day, 15day]\n",
    "#nTrup = length(ramps)\n",
    "\n",
    "Tinj   = 10year\n",
    "dTinj  = year/12 / 2\n",
    "nTinj  = Int(Tinj / dTinj)\n",
    "\n",
    "Tmon   = 500year\n",
    "dTmon  = 5year\n",
    "nTmon  = Int(Tmon / dTmon)\n",
    "\n",
    "dt_inj = repeat([dTinj], nTinj)\n",
    "dt_mon = repeat([dTmon], nTmon)\n",
    "#dt     = vcat(ramps, dt_inj, dt_mon)\n",
    "dt     = vcat(dt_inj, dt_mon)\n",
    "\n",
    "inj_rate    = 0.25 * 1e9 / 686.5266 / year\n",
    "rate_target = TotalRateTarget(inj_rate)\n",
    "I_ctrl      = InjectorControl(rate_target, [0.0, 1.0], density = 686.5266)\n",
    "\n",
    "controls = Dict()\n",
    "controls[:Injector1] = I_ctrl\n",
    "controls[:Injector2] = I_ctrl\n",
    "controls[:Injector3] = I_ctrl\n",
    "controls[:Injector4] = I_ctrl\n",
    "\n",
    "forces_inj = setup_reservoir_forces(model, control = controls, bc = bc)\n",
    "forces_mon = setup_reservoir_forces(model, bc = bc)\n",
    "#forces     = vcat(fill(forces_inj, nTrup), fill(forces_inj, nTinj), fill(forces_mon, nTmon))\n",
    "forces     = vcat(fill(forces_inj, nTinj), fill(forces_mon, nTmon))\n",
    "#println(\"$nTrup rampups + $nTinj report steps with injection, $nTmon report steps with migration.\")\n",
    "println(\"$nTinj report steps with injection, $nTmon report steps with migration.\")\n",
    "\n",
    "# run simulation\n",
    "wd, states, t = simulate_reservoir(state0, model, dt, parameters = parameters, forces = forces,\n",
    "                                   info_level = 1, \n",
    "                                   presolve_wells = false, #true\n",
    "                                   linear_solver = :bicgstab, #:gmres\n",
    "                                   precond = :cpr, #:ilu0\n",
    "                                   max_nonlinear_iterations = 12,\n",
    "                                   relaxation = true,\n",
    "                                   tol_mb = 1e-3,\n",
    "                                   rtol = 1e-3,\n",
    "                                   max_timestep_cuts = 5)"
   ]
  },
  {
   "cell_type": "code",
   "execution_count": 23,
   "metadata": {},
   "outputs": [],
   "source": [
    "plot_reservoir(model, states)"
   ]
  },
  {
   "cell_type": "code",
   "execution_count": null,
   "metadata": {},
   "outputs": [],
   "source": [
    "inventory = co2_inventory(model, wd, states, t)\n",
    "JutulDarcy.plot_co2_inventory(t, inventory)"
   ]
  },
  {
   "cell_type": "markdown",
   "metadata": {},
   "source": [
    "***\n",
    "# Functional"
   ]
  },
  {
   "cell_type": "code",
   "execution_count": 11,
   "metadata": {},
   "outputs": [],
   "source": []
  }
 ],
 "metadata": {
  "kernelspec": {
   "display_name": "Julia 1.10.5",
   "language": "julia",
   "name": "julia-1.10"
  },
  "language_info": {
   "file_extension": ".jl",
   "mimetype": "application/julia",
   "name": "julia",
   "version": "1.10.5"
  }
 },
 "nbformat": 4,
 "nbformat_minor": 2
}
